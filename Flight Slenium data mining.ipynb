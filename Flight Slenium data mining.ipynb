{
 "cells": [
  {
   "cell_type": "code",
   "execution_count": 1,
   "metadata": {},
   "outputs": [
    {
     "name": "stdout",
     "output_type": "stream",
     "text": [
      "Requirement already satisfied: selenium in c:\\users\\inpshy\\anaconda3\\lib\\site-packages (3.141.0)\n",
      "Requirement already satisfied: urllib3 in c:\\users\\inpshy\\anaconda3\\lib\\site-packages (from selenium) (1.25.11)\n"
     ]
    }
   ],
   "source": [
    "#lets install lhe selenium libariries\n",
    "!pip install selenium"
   ]
  },
  {
   "cell_type": "code",
   "execution_count": 3,
   "metadata": {},
   "outputs": [],
   "source": [
    "# Importing Libraries\n",
    "import selenium\n",
    "import pandas as pd\n",
    "import time\n",
    "import numpy as np\n",
    "from bs4 import BeautifulSoup\n",
    "\n",
    "# Importing selenium webdriver \n",
    "from selenium import webdriver\n",
    "\n",
    "# Importing required Exceptions which needs to handled\n",
    "from selenium.common.exceptions import StaleElementReferenceException, NoSuchElementException\n",
    "\n",
    "#Importing requests\n",
    "import requests\n",
    "\n",
    "# importing regex\n",
    "import re\n",
    "import urllib3"
   ]
  },
  {
   "cell_type": "code",
   "execution_count": 4,
   "metadata": {},
   "outputs": [
    {
     "ename": "SessionNotCreatedException",
     "evalue": "Message: session not created: This version of ChromeDriver only supports Chrome version 93\nCurrent browser version is 95.0.4638.69 with binary path C:\\Program Files (x86)\\Google\\Chrome\\Application\\chrome.exe\n",
     "output_type": "error",
     "traceback": [
      "\u001b[1;31m---------------------------------------------------------------------------\u001b[0m",
      "\u001b[1;31mSessionNotCreatedException\u001b[0m                Traceback (most recent call last)",
      "\u001b[1;32m<ipython-input-4-aaa44e8e1b15>\u001b[0m in \u001b[0;36m<module>\u001b[1;34m\u001b[0m\n\u001b[0;32m      1\u001b[0m \u001b[1;31m#lets first connect with webdriver\u001b[0m\u001b[1;33m\u001b[0m\u001b[1;33m\u001b[0m\u001b[1;33m\u001b[0m\u001b[0m\n\u001b[1;32m----> 2\u001b[1;33m \u001b[0mdriver\u001b[0m\u001b[1;33m=\u001b[0m\u001b[0mwebdriver\u001b[0m\u001b[1;33m.\u001b[0m\u001b[0mChrome\u001b[0m\u001b[1;33m(\u001b[0m\u001b[1;34mr\"C:\\Users\\INPshy\\Downloads\\chromedriver.exe\"\u001b[0m\u001b[1;33m)\u001b[0m\u001b[1;33m\u001b[0m\u001b[1;33m\u001b[0m\u001b[0m\n\u001b[0m",
      "\u001b[1;32m~\\Anaconda3\\lib\\site-packages\\selenium\\webdriver\\chrome\\webdriver.py\u001b[0m in \u001b[0;36m__init__\u001b[1;34m(self, executable_path, port, options, service_args, desired_capabilities, service_log_path, chrome_options, keep_alive)\u001b[0m\n\u001b[0;32m     74\u001b[0m \u001b[1;33m\u001b[0m\u001b[0m\n\u001b[0;32m     75\u001b[0m         \u001b[1;32mtry\u001b[0m\u001b[1;33m:\u001b[0m\u001b[1;33m\u001b[0m\u001b[1;33m\u001b[0m\u001b[0m\n\u001b[1;32m---> 76\u001b[1;33m             RemoteWebDriver.__init__(\n\u001b[0m\u001b[0;32m     77\u001b[0m                 \u001b[0mself\u001b[0m\u001b[1;33m,\u001b[0m\u001b[1;33m\u001b[0m\u001b[1;33m\u001b[0m\u001b[0m\n\u001b[0;32m     78\u001b[0m                 command_executor=ChromeRemoteConnection(\n",
      "\u001b[1;32m~\\Anaconda3\\lib\\site-packages\\selenium\\webdriver\\remote\\webdriver.py\u001b[0m in \u001b[0;36m__init__\u001b[1;34m(self, command_executor, desired_capabilities, browser_profile, proxy, keep_alive, file_detector, options)\u001b[0m\n\u001b[0;32m    155\u001b[0m             warnings.warn(\"Please use FirefoxOptions to set browser profile\",\n\u001b[0;32m    156\u001b[0m                           DeprecationWarning, stacklevel=2)\n\u001b[1;32m--> 157\u001b[1;33m         \u001b[0mself\u001b[0m\u001b[1;33m.\u001b[0m\u001b[0mstart_session\u001b[0m\u001b[1;33m(\u001b[0m\u001b[0mcapabilities\u001b[0m\u001b[1;33m,\u001b[0m \u001b[0mbrowser_profile\u001b[0m\u001b[1;33m)\u001b[0m\u001b[1;33m\u001b[0m\u001b[1;33m\u001b[0m\u001b[0m\n\u001b[0m\u001b[0;32m    158\u001b[0m         \u001b[0mself\u001b[0m\u001b[1;33m.\u001b[0m\u001b[0m_switch_to\u001b[0m \u001b[1;33m=\u001b[0m \u001b[0mSwitchTo\u001b[0m\u001b[1;33m(\u001b[0m\u001b[0mself\u001b[0m\u001b[1;33m)\u001b[0m\u001b[1;33m\u001b[0m\u001b[1;33m\u001b[0m\u001b[0m\n\u001b[0;32m    159\u001b[0m         \u001b[0mself\u001b[0m\u001b[1;33m.\u001b[0m\u001b[0m_mobile\u001b[0m \u001b[1;33m=\u001b[0m \u001b[0mMobile\u001b[0m\u001b[1;33m(\u001b[0m\u001b[0mself\u001b[0m\u001b[1;33m)\u001b[0m\u001b[1;33m\u001b[0m\u001b[1;33m\u001b[0m\u001b[0m\n",
      "\u001b[1;32m~\\Anaconda3\\lib\\site-packages\\selenium\\webdriver\\remote\\webdriver.py\u001b[0m in \u001b[0;36mstart_session\u001b[1;34m(self, capabilities, browser_profile)\u001b[0m\n\u001b[0;32m    250\u001b[0m         parameters = {\"capabilities\": w3c_caps,\n\u001b[0;32m    251\u001b[0m                       \"desiredCapabilities\": capabilities}\n\u001b[1;32m--> 252\u001b[1;33m         \u001b[0mresponse\u001b[0m \u001b[1;33m=\u001b[0m \u001b[0mself\u001b[0m\u001b[1;33m.\u001b[0m\u001b[0mexecute\u001b[0m\u001b[1;33m(\u001b[0m\u001b[0mCommand\u001b[0m\u001b[1;33m.\u001b[0m\u001b[0mNEW_SESSION\u001b[0m\u001b[1;33m,\u001b[0m \u001b[0mparameters\u001b[0m\u001b[1;33m)\u001b[0m\u001b[1;33m\u001b[0m\u001b[1;33m\u001b[0m\u001b[0m\n\u001b[0m\u001b[0;32m    253\u001b[0m         \u001b[1;32mif\u001b[0m \u001b[1;34m'sessionId'\u001b[0m \u001b[1;32mnot\u001b[0m \u001b[1;32min\u001b[0m \u001b[0mresponse\u001b[0m\u001b[1;33m:\u001b[0m\u001b[1;33m\u001b[0m\u001b[1;33m\u001b[0m\u001b[0m\n\u001b[0;32m    254\u001b[0m             \u001b[0mresponse\u001b[0m \u001b[1;33m=\u001b[0m \u001b[0mresponse\u001b[0m\u001b[1;33m[\u001b[0m\u001b[1;34m'value'\u001b[0m\u001b[1;33m]\u001b[0m\u001b[1;33m\u001b[0m\u001b[1;33m\u001b[0m\u001b[0m\n",
      "\u001b[1;32m~\\Anaconda3\\lib\\site-packages\\selenium\\webdriver\\remote\\webdriver.py\u001b[0m in \u001b[0;36mexecute\u001b[1;34m(self, driver_command, params)\u001b[0m\n\u001b[0;32m    319\u001b[0m         \u001b[0mresponse\u001b[0m \u001b[1;33m=\u001b[0m \u001b[0mself\u001b[0m\u001b[1;33m.\u001b[0m\u001b[0mcommand_executor\u001b[0m\u001b[1;33m.\u001b[0m\u001b[0mexecute\u001b[0m\u001b[1;33m(\u001b[0m\u001b[0mdriver_command\u001b[0m\u001b[1;33m,\u001b[0m \u001b[0mparams\u001b[0m\u001b[1;33m)\u001b[0m\u001b[1;33m\u001b[0m\u001b[1;33m\u001b[0m\u001b[0m\n\u001b[0;32m    320\u001b[0m         \u001b[1;32mif\u001b[0m \u001b[0mresponse\u001b[0m\u001b[1;33m:\u001b[0m\u001b[1;33m\u001b[0m\u001b[1;33m\u001b[0m\u001b[0m\n\u001b[1;32m--> 321\u001b[1;33m             \u001b[0mself\u001b[0m\u001b[1;33m.\u001b[0m\u001b[0merror_handler\u001b[0m\u001b[1;33m.\u001b[0m\u001b[0mcheck_response\u001b[0m\u001b[1;33m(\u001b[0m\u001b[0mresponse\u001b[0m\u001b[1;33m)\u001b[0m\u001b[1;33m\u001b[0m\u001b[1;33m\u001b[0m\u001b[0m\n\u001b[0m\u001b[0;32m    322\u001b[0m             response['value'] = self._unwrap_value(\n\u001b[0;32m    323\u001b[0m                 response.get('value', None))\n",
      "\u001b[1;32m~\\Anaconda3\\lib\\site-packages\\selenium\\webdriver\\remote\\errorhandler.py\u001b[0m in \u001b[0;36mcheck_response\u001b[1;34m(self, response)\u001b[0m\n\u001b[0;32m    240\u001b[0m                 \u001b[0malert_text\u001b[0m \u001b[1;33m=\u001b[0m \u001b[0mvalue\u001b[0m\u001b[1;33m[\u001b[0m\u001b[1;34m'alert'\u001b[0m\u001b[1;33m]\u001b[0m\u001b[1;33m.\u001b[0m\u001b[0mget\u001b[0m\u001b[1;33m(\u001b[0m\u001b[1;34m'text'\u001b[0m\u001b[1;33m)\u001b[0m\u001b[1;33m\u001b[0m\u001b[1;33m\u001b[0m\u001b[0m\n\u001b[0;32m    241\u001b[0m             \u001b[1;32mraise\u001b[0m \u001b[0mexception_class\u001b[0m\u001b[1;33m(\u001b[0m\u001b[0mmessage\u001b[0m\u001b[1;33m,\u001b[0m \u001b[0mscreen\u001b[0m\u001b[1;33m,\u001b[0m \u001b[0mstacktrace\u001b[0m\u001b[1;33m,\u001b[0m \u001b[0malert_text\u001b[0m\u001b[1;33m)\u001b[0m\u001b[1;33m\u001b[0m\u001b[1;33m\u001b[0m\u001b[0m\n\u001b[1;32m--> 242\u001b[1;33m         \u001b[1;32mraise\u001b[0m \u001b[0mexception_class\u001b[0m\u001b[1;33m(\u001b[0m\u001b[0mmessage\u001b[0m\u001b[1;33m,\u001b[0m \u001b[0mscreen\u001b[0m\u001b[1;33m,\u001b[0m \u001b[0mstacktrace\u001b[0m\u001b[1;33m)\u001b[0m\u001b[1;33m\u001b[0m\u001b[1;33m\u001b[0m\u001b[0m\n\u001b[0m\u001b[0;32m    243\u001b[0m \u001b[1;33m\u001b[0m\u001b[0m\n\u001b[0;32m    244\u001b[0m     \u001b[1;32mdef\u001b[0m \u001b[0m_value_or_default\u001b[0m\u001b[1;33m(\u001b[0m\u001b[0mself\u001b[0m\u001b[1;33m,\u001b[0m \u001b[0mobj\u001b[0m\u001b[1;33m,\u001b[0m \u001b[0mkey\u001b[0m\u001b[1;33m,\u001b[0m \u001b[0mdefault\u001b[0m\u001b[1;33m)\u001b[0m\u001b[1;33m:\u001b[0m\u001b[1;33m\u001b[0m\u001b[1;33m\u001b[0m\u001b[0m\n",
      "\u001b[1;31mSessionNotCreatedException\u001b[0m: Message: session not created: This version of ChromeDriver only supports Chrome version 93\nCurrent browser version is 95.0.4638.69 with binary path C:\\Program Files (x86)\\Google\\Chrome\\Application\\chrome.exe\n"
     ]
    }
   ],
   "source": [
    "#lets first connect with webdriver\n",
    "driver=webdriver.Chrome(r\"C:\\Users\\INPshy\\Downloads\\chromedriver.exe\")"
   ]
  },
  {
   "cell_type": "code",
   "execution_count": 4,
   "metadata": {},
   "outputs": [],
   "source": [
    "url='https://www.makemytrip.com/flight/search?itinerary=DEL-BLR-22/10/2021&tripType=O&paxType=A-1_C-0_I-0&intl=false&cabinClass=E&ccde=IN&lang=eng'\n",
    "driver.get(url)"
   ]
  },
  {
   "cell_type": "code",
   "execution_count": 5,
   "metadata": {},
   "outputs": [],
   "source": [
    "#select manually data as i have selected present date data directly from site"
   ]
  },
  {
   "cell_type": "code",
   "execution_count": 106,
   "metadata": {},
   "outputs": [],
   "source": [
    "Flight_name=[]\n",
    "Dept_time=[]\n",
    "Arrival_time=[]\n",
    "Source=[]\n",
    "Destination=[]\n",
    "Travel_hour=[]\n",
    "Price=[]"
   ]
  },
  {
   "cell_type": "code",
   "execution_count": 107,
   "metadata": {},
   "outputs": [],
   "source": [
    "# Extracting flight name\n",
    "try:\n",
    "    flight= driver.find_elements_by_xpath('//div[@class=\"makeFlex simpleow\"]/div/div/span')\n",
    "    for i in flight:\n",
    "        Flight_name.append(i.text)\n",
    "except NoSuchElementException:\n",
    "    Flight_name.append('-')\n"
   ]
  },
  {
   "cell_type": "code",
   "execution_count": 108,
   "metadata": {},
   "outputs": [
    {
     "data": {
      "text/plain": [
       "19"
      ]
     },
     "execution_count": 108,
     "metadata": {},
     "output_type": "execute_result"
    }
   ],
   "source": [
    "len(Flight_name)"
   ]
  },
  {
   "cell_type": "code",
   "execution_count": 109,
   "metadata": {},
   "outputs": [],
   "source": [
    "#extracting Dept_time\n",
    "\n",
    "try:\n",
    "    dept=driver.find_elements_by_xpath('//div[@class=\"makeFlex simpleow\"]/div/label/div/div/div/div/p[1]/span')  \n",
    "    for i in dept:\n",
    "        Dept_time.append(i.text)\n",
    "except NoSuchElementException:\n",
    "    Dept_time.append('-')\n",
    "    "
   ]
  },
  {
   "cell_type": "code",
   "execution_count": 110,
   "metadata": {},
   "outputs": [
    {
     "data": {
      "text/plain": [
       "['21:20',\n",
       " '11:30',\n",
       " '19:25',\n",
       " '11:30',\n",
       " '19:45',\n",
       " '22:20',\n",
       " '18:50',\n",
       " '00:30',\n",
       " '',\n",
       " '',\n",
       " '',\n",
       " '',\n",
       " '',\n",
       " '',\n",
       " '18:45',\n",
       " '21:40',\n",
       " '20:05',\n",
       " '23:10',\n",
       " '20:15',\n",
       " '23:05',\n",
       " '20:40',\n",
       " '23:20',\n",
       " '21:50',\n",
       " '00:35',\n",
       " '22:20',\n",
       " '01:05',\n",
       " '22:40',\n",
       " '01:25',\n",
       " '22:00',\n",
       " '06:50',\n",
       " '18:15',\n",
       " '16:55',\n",
       " '18:40',\n",
       " '21:30',\n",
       " '19:50',\n",
       " '22:40',\n",
       " '19:15',\n",
       " '01:00']"
      ]
     },
     "execution_count": 110,
     "metadata": {},
     "output_type": "execute_result"
    }
   ],
   "source": [
    "Dept_time"
   ]
  },
  {
   "cell_type": "code",
   "execution_count": 111,
   "metadata": {},
   "outputs": [
    {
     "data": {
      "text/plain": [
       "38"
      ]
     },
     "execution_count": 111,
     "metadata": {},
     "output_type": "execute_result"
    }
   ],
   "source": [
    "len(Dept_time)"
   ]
  },
  {
   "cell_type": "code",
   "execution_count": 112,
   "metadata": {},
   "outputs": [],
   "source": [
    "#segregate dep time and arrival time\n",
    "Dep_time1=[]\n",
    "Arri_time1=[]\n",
    "for i in range(0,len(Dept_time),2):\n",
    "    Dep_time1.append(Dept_time[i])\n",
    "    Arri_time1.append(Dept_time[i+1])"
   ]
  },
  {
   "cell_type": "code",
   "execution_count": 113,
   "metadata": {},
   "outputs": [
    {
     "data": {
      "text/plain": [
       "['21:20',\n",
       " '19:25',\n",
       " '19:45',\n",
       " '18:50',\n",
       " '',\n",
       " '',\n",
       " '',\n",
       " '18:45',\n",
       " '20:05',\n",
       " '20:15',\n",
       " '20:40',\n",
       " '21:50',\n",
       " '22:20',\n",
       " '22:40',\n",
       " '22:00',\n",
       " '18:15',\n",
       " '18:40',\n",
       " '19:50',\n",
       " '19:15']"
      ]
     },
     "execution_count": 113,
     "metadata": {},
     "output_type": "execute_result"
    }
   ],
   "source": [
    "Dep_time1"
   ]
  },
  {
   "cell_type": "code",
   "execution_count": 114,
   "metadata": {},
   "outputs": [
    {
     "data": {
      "text/plain": [
       "['11:30',\n",
       " '11:30',\n",
       " '22:20',\n",
       " '00:30',\n",
       " '',\n",
       " '',\n",
       " '',\n",
       " '21:40',\n",
       " '23:10',\n",
       " '23:05',\n",
       " '23:20',\n",
       " '00:35',\n",
       " '01:05',\n",
       " '01:25',\n",
       " '06:50',\n",
       " '16:55',\n",
       " '21:30',\n",
       " '22:40',\n",
       " '01:00']"
      ]
     },
     "execution_count": 114,
     "metadata": {},
     "output_type": "execute_result"
    }
   ],
   "source": [
    "Arri_time1"
   ]
  },
  {
   "cell_type": "code",
   "execution_count": 115,
   "metadata": {},
   "outputs": [
    {
     "data": {
      "text/plain": [
       "19"
      ]
     },
     "execution_count": 115,
     "metadata": {},
     "output_type": "execute_result"
    }
   ],
   "source": [
    "len(Arri_time1)"
   ]
  },
  {
   "cell_type": "code",
   "execution_count": 116,
   "metadata": {},
   "outputs": [],
   "source": [
    "#extracting source\n",
    "\n",
    "try:\n",
    "    source=driver.find_elements_by_xpath('//div[@class=\"makeFlex simpleow\"]/div/label/div/div/div/div/p[2]')  \n",
    "    for i in source:\n",
    "        Source.append(i.text)\n",
    "except NoSuchElementException:\n",
    "    Source.append('-')"
   ]
  },
  {
   "cell_type": "code",
   "execution_count": 117,
   "metadata": {},
   "outputs": [
    {
     "data": {
      "text/plain": [
       "['New Delhi',\n",
       " 'Bengaluru',\n",
       " 'New Delhi',\n",
       " 'Bengaluru',\n",
       " 'New Delhi',\n",
       " 'Bengaluru',\n",
       " 'New Delhi',\n",
       " 'Bengaluru',\n",
       " '',\n",
       " '',\n",
       " '',\n",
       " '',\n",
       " '',\n",
       " '',\n",
       " 'New Delhi',\n",
       " 'Bengaluru',\n",
       " 'New Delhi',\n",
       " 'Bengaluru',\n",
       " 'New Delhi',\n",
       " 'Bengaluru',\n",
       " 'New Delhi',\n",
       " 'Bengaluru',\n",
       " 'New Delhi',\n",
       " 'Bengaluru',\n",
       " 'New Delhi',\n",
       " 'Bengaluru',\n",
       " 'New Delhi',\n",
       " 'Bengaluru',\n",
       " 'New Delhi',\n",
       " 'Bengaluru',\n",
       " 'New Delhi',\n",
       " 'Bengaluru',\n",
       " 'New Delhi',\n",
       " 'Bengaluru',\n",
       " 'New Delhi',\n",
       " 'Bengaluru',\n",
       " 'New Delhi',\n",
       " 'Bengaluru']"
      ]
     },
     "execution_count": 117,
     "metadata": {},
     "output_type": "execute_result"
    }
   ],
   "source": [
    "Source"
   ]
  },
  {
   "cell_type": "code",
   "execution_count": 118,
   "metadata": {},
   "outputs": [],
   "source": [
    "#segregate Source and destination \n",
    "Source1=[]\n",
    "Destination1=[]\n",
    "for i in range(0,len(Source),2):\n",
    "    Source1.append(Source[i])\n",
    "    Destination1.append(Source[i+1])"
   ]
  },
  {
   "cell_type": "code",
   "execution_count": 119,
   "metadata": {},
   "outputs": [
    {
     "data": {
      "text/plain": [
       "['Bengaluru',\n",
       " 'Bengaluru',\n",
       " 'Bengaluru',\n",
       " 'Bengaluru',\n",
       " '',\n",
       " '',\n",
       " '',\n",
       " 'Bengaluru',\n",
       " 'Bengaluru',\n",
       " 'Bengaluru',\n",
       " 'Bengaluru',\n",
       " 'Bengaluru',\n",
       " 'Bengaluru',\n",
       " 'Bengaluru',\n",
       " 'Bengaluru',\n",
       " 'Bengaluru',\n",
       " 'Bengaluru',\n",
       " 'Bengaluru',\n",
       " 'Bengaluru']"
      ]
     },
     "execution_count": 119,
     "metadata": {},
     "output_type": "execute_result"
    }
   ],
   "source": [
    "Destination1"
   ]
  },
  {
   "cell_type": "code",
   "execution_count": 120,
   "metadata": {},
   "outputs": [],
   "source": [
    "#extracting Travel hour\n",
    "\n",
    "try:\n",
    "    travel=driver.find_elements_by_xpath('//div[@class=\"makeFlex fontSize12 flexOne gap-x-10\"]/div[2]/p')  \n",
    "    for i in travel:\n",
    "        Travel_hour.append(i.text)\n",
    "except NoSuchElementException:\n",
    "    Travel_hour.append('-')"
   ]
  },
  {
   "cell_type": "code",
   "execution_count": 121,
   "metadata": {},
   "outputs": [
    {
     "data": {
      "text/plain": [
       "['14 h 10 m',\n",
       " '16 h 05 m',\n",
       " '02 h 35 m',\n",
       " '05 h 40 m',\n",
       " '',\n",
       " '',\n",
       " '',\n",
       " '02 h 55 m',\n",
       " '03 h 05 m',\n",
       " '02 h 50 m',\n",
       " '02 h 40 m',\n",
       " '02 h 45 m',\n",
       " '02 h 45 m',\n",
       " '02 h 45 m',\n",
       " '08 h 50 m',\n",
       " '22 h 40 m',\n",
       " '02 h 50 m',\n",
       " '02 h 50 m',\n",
       " '05 h 45 m']"
      ]
     },
     "execution_count": 121,
     "metadata": {},
     "output_type": "execute_result"
    }
   ],
   "source": [
    "Travel_hour"
   ]
  },
  {
   "cell_type": "code",
   "execution_count": 122,
   "metadata": {},
   "outputs": [
    {
     "data": {
      "text/plain": [
       "['₹ 7,423',\n",
       " '₹ 7,423',\n",
       " '₹ 7,424',\n",
       " '₹ 7,424',\n",
       " '',\n",
       " '',\n",
       " '',\n",
       " '₹ 7,425',\n",
       " '₹ 7,425',\n",
       " '₹ 7,425',\n",
       " '₹ 7,425',\n",
       " '₹ 7,425',\n",
       " '₹ 7,425',\n",
       " '₹ 7,425',\n",
       " '₹ 7,425',\n",
       " '₹ 7,425',\n",
       " '₹ 7,426',\n",
       " '₹ 7,845',\n",
       " '₹ 12,194']"
      ]
     },
     "execution_count": 122,
     "metadata": {},
     "output_type": "execute_result"
    }
   ],
   "source": [
    "#extracting source\n",
    "\n",
    "try:\n",
    "    price=driver.find_elements_by_xpath('//div[@class=\"priceSection\"]/div/div/p')  \n",
    "    for i in price:\n",
    "        Price.append(i.text)\n",
    "except NoSuchElementException:\n",
    "    Price.append('-')\n",
    "Price"
   ]
  },
  {
   "cell_type": "code",
   "execution_count": 202,
   "metadata": {},
   "outputs": [
    {
     "data": {
      "text/plain": [
       "19"
      ]
     },
     "execution_count": 202,
     "metadata": {},
     "output_type": "execute_result"
    }
   ],
   "source": [
    "len(Price[:19])"
   ]
  },
  {
   "cell_type": "code",
   "execution_count": 123,
   "metadata": {},
   "outputs": [],
   "source": [
    "#click on next page manually "
   ]
  },
  {
   "cell_type": "code",
   "execution_count": 124,
   "metadata": {},
   "outputs": [],
   "source": [
    "#second page 23 oct \n",
    "Flight_name23=[]\n",
    "Dept_time23=[]\n",
    "Arrival_time23=[]\n",
    "Source23=[]\n",
    "Destination23=[]\n",
    "Travel_hour23=[]\n",
    "Price23=[]"
   ]
  },
  {
   "cell_type": "code",
   "execution_count": 125,
   "metadata": {},
   "outputs": [],
   "source": [
    "# Extracting flight name\n",
    "try:\n",
    "    flight= driver.find_elements_by_xpath('//div[@class=\"makeFlex simpleow\"]/div/div/span')\n",
    "    for i in flight:\n",
    "        Flight_name23.append(i.text)\n",
    "except NoSuchElementException:\n",
    "    Flight_name23.append('-')\n"
   ]
  },
  {
   "cell_type": "code",
   "execution_count": 127,
   "metadata": {},
   "outputs": [
    {
     "data": {
      "text/plain": [
       "64"
      ]
     },
     "execution_count": 127,
     "metadata": {},
     "output_type": "execute_result"
    }
   ],
   "source": [
    "len(Flight_name23)"
   ]
  },
  {
   "cell_type": "code",
   "execution_count": 128,
   "metadata": {},
   "outputs": [
    {
     "data": {
      "text/plain": [
       "128"
      ]
     },
     "execution_count": 128,
     "metadata": {},
     "output_type": "execute_result"
    }
   ],
   "source": [
    "#extracting Dept_time 23\n",
    "\n",
    "try:\n",
    "    dept=driver.find_elements_by_xpath('//div[@class=\"makeFlex simpleow\"]/div/label/div/div/div/div/p[1]/span')  \n",
    "    for i in dept:\n",
    "        Dept_time23.append(i.text)\n",
    "except NoSuchElementException:\n",
    "    Dept_time23.append('-')\n",
    "len(Dept_time23)"
   ]
  },
  {
   "cell_type": "code",
   "execution_count": 129,
   "metadata": {},
   "outputs": [],
   "source": [
    "#segregate dep time and arrival time\n",
    "Dep_time2=[]\n",
    "Arri_time2=[]\n",
    "for i in range(0,len(Dept_time23),2):\n",
    "    Dep_time2.append(Dept_time23[i])\n",
    "    Arri_time2.append(Dept_time23[i+1])"
   ]
  },
  {
   "cell_type": "code",
   "execution_count": 132,
   "metadata": {},
   "outputs": [
    {
     "data": {
      "text/plain": [
       "64"
      ]
     },
     "execution_count": 132,
     "metadata": {},
     "output_type": "execute_result"
    }
   ],
   "source": [
    "len(Dep_time2)"
   ]
  },
  {
   "cell_type": "code",
   "execution_count": 133,
   "metadata": {},
   "outputs": [],
   "source": [
    "#extracting source 23\n",
    "\n",
    "try:\n",
    "    source=driver.find_elements_by_xpath('//div[@class=\"makeFlex simpleow\"]/div/label/div/div/div/div/p[2]')  \n",
    "    for i in source:\n",
    "        Source23.append(i.text)\n",
    "except NoSuchElementException:\n",
    "    Source23.append('-')"
   ]
  },
  {
   "cell_type": "code",
   "execution_count": 134,
   "metadata": {},
   "outputs": [
    {
     "data": {
      "text/plain": [
       "128"
      ]
     },
     "execution_count": 134,
     "metadata": {},
     "output_type": "execute_result"
    }
   ],
   "source": [
    "len(Source23)"
   ]
  },
  {
   "cell_type": "code",
   "execution_count": 29,
   "metadata": {},
   "outputs": [
    {
     "data": {
      "text/plain": [
       "['New Delhi',\n",
       " 'Bengaluru',\n",
       " '',\n",
       " '',\n",
       " '',\n",
       " '',\n",
       " '',\n",
       " '',\n",
       " '',\n",
       " '',\n",
       " '',\n",
       " '',\n",
       " '',\n",
       " '',\n",
       " '',\n",
       " '',\n",
       " '',\n",
       " '',\n",
       " '',\n",
       " '',\n",
       " '',\n",
       " '',\n",
       " 'New Delhi',\n",
       " 'Bengaluru',\n",
       " 'New Delhi',\n",
       " 'Bengaluru',\n",
       " 'New Delhi',\n",
       " 'Bengaluru',\n",
       " '',\n",
       " '',\n",
       " '',\n",
       " '',\n",
       " '',\n",
       " '',\n",
       " 'New Delhi',\n",
       " 'Bengaluru',\n",
       " 'New Delhi',\n",
       " 'Bengaluru',\n",
       " 'New Delhi',\n",
       " 'Bengaluru',\n",
       " 'New Delhi',\n",
       " 'Bengaluru',\n",
       " 'New Delhi',\n",
       " 'Bengaluru',\n",
       " 'New Delhi',\n",
       " 'Bengaluru',\n",
       " 'New Delhi',\n",
       " 'Bengaluru',\n",
       " 'New Delhi',\n",
       " 'Bengaluru',\n",
       " 'New Delhi',\n",
       " 'Bengaluru',\n",
       " 'New Delhi',\n",
       " 'Bengaluru',\n",
       " 'New Delhi',\n",
       " 'Bengaluru',\n",
       " 'New Delhi',\n",
       " 'Bengaluru',\n",
       " '',\n",
       " '',\n",
       " '',\n",
       " '',\n",
       " '',\n",
       " '',\n",
       " '',\n",
       " '',\n",
       " '',\n",
       " '',\n",
       " '',\n",
       " '',\n",
       " '',\n",
       " '',\n",
       " '',\n",
       " '',\n",
       " '',\n",
       " '',\n",
       " '',\n",
       " '',\n",
       " '',\n",
       " '',\n",
       " 'New Delhi',\n",
       " 'Bengaluru',\n",
       " 'New Delhi',\n",
       " 'Bengaluru']"
      ]
     },
     "execution_count": 29,
     "metadata": {},
     "output_type": "execute_result"
    }
   ],
   "source": [
    "Source23"
   ]
  },
  {
   "cell_type": "code",
   "execution_count": 135,
   "metadata": {},
   "outputs": [],
   "source": [
    "#segregate Source and destination  23 oct\n",
    "Source2=[]\n",
    "Destination2=[]\n",
    "for i in range(0,len(Source23),2):\n",
    "    Source2.append(Source23[i])\n",
    "    Destination2.append(Source23[i+1])"
   ]
  },
  {
   "cell_type": "code",
   "execution_count": 137,
   "metadata": {},
   "outputs": [
    {
     "data": {
      "text/plain": [
       "64"
      ]
     },
     "execution_count": 137,
     "metadata": {},
     "output_type": "execute_result"
    }
   ],
   "source": [
    "len(Source2)"
   ]
  },
  {
   "cell_type": "code",
   "execution_count": 138,
   "metadata": {},
   "outputs": [],
   "source": [
    "#extracting Travel hour\n",
    "\n",
    "try:\n",
    "    travel=driver.find_elements_by_xpath('//div[@class=\"makeFlex fontSize12 flexOne gap-x-10\"]/div[2]/p')  \n",
    "    for i in travel:\n",
    "        Travel_hour23.append(i.text)\n",
    "except NoSuchElementException:\n",
    "    Travel_hour23.append('-')"
   ]
  },
  {
   "cell_type": "code",
   "execution_count": 139,
   "metadata": {},
   "outputs": [
    {
     "data": {
      "text/plain": [
       "64"
      ]
     },
     "execution_count": 139,
     "metadata": {},
     "output_type": "execute_result"
    }
   ],
   "source": [
    "len(Travel_hour23)"
   ]
  },
  {
   "cell_type": "code",
   "execution_count": 142,
   "metadata": {},
   "outputs": [
    {
     "data": {
      "text/plain": [
       "['₹ 7,423',\n",
       " '',\n",
       " '',\n",
       " '',\n",
       " '',\n",
       " '',\n",
       " '',\n",
       " '',\n",
       " '',\n",
       " '',\n",
       " '',\n",
       " '₹ 7,424',\n",
       " '₹ 7,424',\n",
       " '₹ 7,424',\n",
       " '',\n",
       " '',\n",
       " '',\n",
       " '₹ 7,425',\n",
       " '₹ 7,425',\n",
       " '₹ 7,425',\n",
       " '₹ 7,425',\n",
       " '₹ 7,425',\n",
       " '₹ 7,425',\n",
       " '₹ 7,425',\n",
       " '₹ 7,425',\n",
       " '₹ 7,425',\n",
       " '₹ 7,425',\n",
       " '₹ 7,425',\n",
       " '₹ 7,425',\n",
       " '₹ 7,425',\n",
       " '₹ 7,425',\n",
       " '',\n",
       " '',\n",
       " '',\n",
       " '',\n",
       " '',\n",
       " '',\n",
       " '',\n",
       " '',\n",
       " '',\n",
       " '',\n",
       " '₹ 7,426',\n",
       " '₹ 7,426',\n",
       " '₹ 7,426',\n",
       " '₹ 7,845',\n",
       " '₹ 7,845',\n",
       " '₹ 7,845',\n",
       " '₹ 8,055',\n",
       " '₹ 8,071',\n",
       " '',\n",
       " '',\n",
       " '',\n",
       " '₹ 8,790',\n",
       " '₹ 8,790',\n",
       " '₹ 9,315',\n",
       " '₹ 10,313',\n",
       " '₹ 10,407',\n",
       " '',\n",
       " '',\n",
       " '',\n",
       " '',\n",
       " '',\n",
       " '₹ 11,520',\n",
       " '₹ 14,880']"
      ]
     },
     "execution_count": 142,
     "metadata": {},
     "output_type": "execute_result"
    }
   ],
   "source": [
    "#extract Price 23 oct\n",
    "try:\n",
    "    price=driver.find_elements_by_xpath('//div[@class=\"priceSection\"]/div/div/p')  \n",
    "    for i in price:\n",
    "        Price23.append(i.text)\n",
    "except NoSuchElementException:\n",
    "    Price23.append('-')\n",
    "Price23"
   ]
  },
  {
   "cell_type": "code",
   "execution_count": 143,
   "metadata": {},
   "outputs": [
    {
     "data": {
      "text/plain": [
       "64"
      ]
     },
     "execution_count": 143,
     "metadata": {},
     "output_type": "execute_result"
    }
   ],
   "source": [
    "len(Price23)"
   ]
  },
  {
   "cell_type": "code",
   "execution_count": 144,
   "metadata": {},
   "outputs": [],
   "source": [
    "#click on manually page 24 Oct"
   ]
  },
  {
   "cell_type": "code",
   "execution_count": 145,
   "metadata": {},
   "outputs": [],
   "source": [
    "#third page 24 oct \n",
    "Flight_name24=[]\n",
    "Dept_time24=[]\n",
    "Arrival_time24=[]\n",
    "Source24=[]\n",
    "Destination24=[]\n",
    "Travel_hour24=[]\n",
    "Price24=[]"
   ]
  },
  {
   "cell_type": "code",
   "execution_count": 146,
   "metadata": {},
   "outputs": [],
   "source": [
    "# Extracting flight name\n",
    "try:\n",
    "    flight= driver.find_elements_by_xpath('//div[@class=\"makeFlex simpleow\"]/div/div/span')\n",
    "    for i in flight:\n",
    "        Flight_name24.append(i.text)\n",
    "except NoSuchElementException:\n",
    "    Flight_name24.append('-')\n"
   ]
  },
  {
   "cell_type": "code",
   "execution_count": 148,
   "metadata": {},
   "outputs": [
    {
     "data": {
      "text/plain": [
       "58"
      ]
     },
     "execution_count": 148,
     "metadata": {},
     "output_type": "execute_result"
    }
   ],
   "source": [
    "len(Flight_name24)"
   ]
  },
  {
   "cell_type": "code",
   "execution_count": 149,
   "metadata": {},
   "outputs": [
    {
     "data": {
      "text/plain": [
       "116"
      ]
     },
     "execution_count": 149,
     "metadata": {},
     "output_type": "execute_result"
    }
   ],
   "source": [
    "#extracting Dept_time 23\n",
    "\n",
    "try:\n",
    "    dept=driver.find_elements_by_xpath('//div[@class=\"makeFlex simpleow\"]/div/label/div/div/div/div/p[1]/span')  \n",
    "    for i in dept:\n",
    "        Dept_time24.append(i.text)\n",
    "except NoSuchElementException:\n",
    "    Dept_time24.append('-')\n",
    "len(Dept_time24)"
   ]
  },
  {
   "cell_type": "code",
   "execution_count": 150,
   "metadata": {},
   "outputs": [],
   "source": [
    "#segregate dep time and arrival time\n",
    "Dep_time3=[]\n",
    "Arri_time3=[]\n",
    "for i in range(0,len(Dept_time24),2):\n",
    "    Dep_time3.append(Dept_time24[i])\n",
    "    Arri_time3.append(Dept_time24[i+1])"
   ]
  },
  {
   "cell_type": "code",
   "execution_count": 152,
   "metadata": {},
   "outputs": [
    {
     "data": {
      "text/plain": [
       "58"
      ]
     },
     "execution_count": 152,
     "metadata": {},
     "output_type": "execute_result"
    }
   ],
   "source": [
    "len(Arri_time3)"
   ]
  },
  {
   "cell_type": "code",
   "execution_count": 153,
   "metadata": {},
   "outputs": [],
   "source": [
    "#extracting source 24\n",
    "\n",
    "try:\n",
    "    source=driver.find_elements_by_xpath('//div[@class=\"makeFlex simpleow\"]/div/label/div/div/div/div/p[2]')  \n",
    "    for i in source:\n",
    "        Source24.append(i.text)\n",
    "except NoSuchElementException:\n",
    "    Source24.append('-')"
   ]
  },
  {
   "cell_type": "code",
   "execution_count": 154,
   "metadata": {},
   "outputs": [],
   "source": [
    "#segregate Source and destination  24 oct\n",
    "Source3=[]\n",
    "Destination3=[]\n",
    "for i in range(0,len(Source24),2):\n",
    "    Source3.append(Source24[i])\n",
    "    Destination3.append(Source24[i+1])"
   ]
  },
  {
   "cell_type": "code",
   "execution_count": 155,
   "metadata": {},
   "outputs": [
    {
     "data": {
      "text/plain": [
       "58"
      ]
     },
     "execution_count": 155,
     "metadata": {},
     "output_type": "execute_result"
    }
   ],
   "source": [
    "len(Source3)"
   ]
  },
  {
   "cell_type": "code",
   "execution_count": 157,
   "metadata": {},
   "outputs": [],
   "source": [
    "#extracting Travel hour 24\n",
    "\n",
    "try:\n",
    "    travel=driver.find_elements_by_xpath('//div[@class=\"makeFlex fontSize12 flexOne gap-x-10\"]/div[2]/p')  \n",
    "    for i in travel:\n",
    "        Travel_hour24.append(i.text)\n",
    "except NoSuchElementException:\n",
    "    Travel_hour24.append('-')"
   ]
  },
  {
   "cell_type": "code",
   "execution_count": 158,
   "metadata": {},
   "outputs": [
    {
     "data": {
      "text/plain": [
       "58"
      ]
     },
     "execution_count": 158,
     "metadata": {},
     "output_type": "execute_result"
    }
   ],
   "source": [
    "len(Travel_hour24)"
   ]
  },
  {
   "cell_type": "code",
   "execution_count": 159,
   "metadata": {},
   "outputs": [
    {
     "data": {
      "text/plain": [
       "['₹ 7,423',\n",
       " '',\n",
       " '',\n",
       " '',\n",
       " '',\n",
       " '',\n",
       " '',\n",
       " '',\n",
       " '',\n",
       " '',\n",
       " '',\n",
       " '₹ 7,424',\n",
       " '₹ 7,424',\n",
       " '₹ 7,424',\n",
       " '₹ 7,425',\n",
       " '₹ 7,425',\n",
       " '₹ 7,425',\n",
       " '₹ 7,425',\n",
       " '₹ 7,425',\n",
       " '₹ 7,425',\n",
       " '₹ 7,425',\n",
       " '₹ 7,425',\n",
       " '₹ 7,425',\n",
       " '₹ 7,425',\n",
       " '₹ 7,425',\n",
       " '',\n",
       " '',\n",
       " '',\n",
       " '',\n",
       " '',\n",
       " '',\n",
       " '',\n",
       " '',\n",
       " '',\n",
       " '',\n",
       " '',\n",
       " '',\n",
       " '₹ 7,426',\n",
       " '₹ 7,426',\n",
       " '₹ 7,530',\n",
       " '₹ 7,635',\n",
       " '₹ 7,845',\n",
       " '₹ 7,845',\n",
       " '₹ 8,686',\n",
       " '₹ 8,790',\n",
       " '₹ 9,158',\n",
       " '₹ 9,657',\n",
       " '₹ 10,050',\n",
       " '₹ 10,409',\n",
       " '',\n",
       " '',\n",
       " '',\n",
       " '',\n",
       " '',\n",
       " '',\n",
       " '₹ 11,520',\n",
       " '₹ 13,620',\n",
       " '₹ 20,340']"
      ]
     },
     "execution_count": 159,
     "metadata": {},
     "output_type": "execute_result"
    }
   ],
   "source": [
    "#extract Price 24 oct\n",
    "try:\n",
    "    price=driver.find_elements_by_xpath('//div[@class=\"priceSection\"]/div/div/p')  \n",
    "    for i in price:\n",
    "        Price24.append(i.text)\n",
    "except NoSuchElementException:\n",
    "    Price24.append('-')\n",
    "Price24"
   ]
  },
  {
   "cell_type": "code",
   "execution_count": 160,
   "metadata": {},
   "outputs": [
    {
     "data": {
      "text/plain": [
       "58"
      ]
     },
     "execution_count": 160,
     "metadata": {},
     "output_type": "execute_result"
    }
   ],
   "source": [
    "len(Price24)"
   ]
  },
  {
   "cell_type": "code",
   "execution_count": 161,
   "metadata": {},
   "outputs": [],
   "source": [
    "#click manually on page 25 Oct "
   ]
  },
  {
   "cell_type": "code",
   "execution_count": 162,
   "metadata": {},
   "outputs": [],
   "source": [
    "#third page 25 oct \n",
    "Flight_name25=[]\n",
    "Dept_time25=[]\n",
    "Arrival_time25=[]\n",
    "Source25=[]\n",
    "Destination25=[]\n",
    "Travel_hour25=[]\n",
    "Price25=[]"
   ]
  },
  {
   "cell_type": "code",
   "execution_count": 163,
   "metadata": {},
   "outputs": [],
   "source": [
    "# Extracting flight name\n",
    "try:\n",
    "    flight= driver.find_elements_by_xpath('//div[@class=\"makeFlex simpleow\"]/div/div/span')\n",
    "    for i in flight:\n",
    "        Flight_name25.append(i.text)\n",
    "except NoSuchElementException:\n",
    "    Flight_name25.append('-')"
   ]
  },
  {
   "cell_type": "code",
   "execution_count": 165,
   "metadata": {},
   "outputs": [
    {
     "data": {
      "text/plain": [
       "58"
      ]
     },
     "execution_count": 165,
     "metadata": {},
     "output_type": "execute_result"
    }
   ],
   "source": [
    "len(Flight_name25)"
   ]
  },
  {
   "cell_type": "code",
   "execution_count": 166,
   "metadata": {},
   "outputs": [
    {
     "data": {
      "text/plain": [
       "116"
      ]
     },
     "execution_count": 166,
     "metadata": {},
     "output_type": "execute_result"
    }
   ],
   "source": [
    "#extracting Dept_time 25\n",
    "\n",
    "try:\n",
    "    dept=driver.find_elements_by_xpath('//div[@class=\"makeFlex simpleow\"]/div/label/div/div/div/div/p[1]/span')  \n",
    "    for i in dept:\n",
    "        Dept_time25.append(i.text)\n",
    "except NoSuchElementException:\n",
    "    Dept_time25.append('-')\n",
    "len(Dept_time25)"
   ]
  },
  {
   "cell_type": "code",
   "execution_count": 167,
   "metadata": {},
   "outputs": [],
   "source": [
    "#segregate dep time and arrival time\n",
    "Dep_time4=[]\n",
    "Arri_time4=[]\n",
    "for i in range(0,len(Dept_time25),2):\n",
    "    Dep_time4.append(Dept_time25[i])\n",
    "    Arri_time4.append(Dept_time25[i+1])"
   ]
  },
  {
   "cell_type": "code",
   "execution_count": 170,
   "metadata": {},
   "outputs": [
    {
     "data": {
      "text/plain": [
       "(58, 58)"
      ]
     },
     "execution_count": 170,
     "metadata": {},
     "output_type": "execute_result"
    }
   ],
   "source": [
    "len(Dep_time4),len(Arri_time4)"
   ]
  },
  {
   "cell_type": "code",
   "execution_count": 171,
   "metadata": {},
   "outputs": [],
   "source": [
    "#extracting source 25 oct\n",
    "\n",
    "try:\n",
    "    source=driver.find_elements_by_xpath('//div[@class=\"makeFlex simpleow\"]/div/label/div/div/div/div/p[2]')  \n",
    "    for i in source:\n",
    "        Source25.append(i.text)\n",
    "except NoSuchElementException:\n",
    "    Source25.append('-')"
   ]
  },
  {
   "cell_type": "code",
   "execution_count": 172,
   "metadata": {},
   "outputs": [
    {
     "data": {
      "text/plain": [
       "116"
      ]
     },
     "execution_count": 172,
     "metadata": {},
     "output_type": "execute_result"
    }
   ],
   "source": [
    "len(Source25)"
   ]
  },
  {
   "cell_type": "code",
   "execution_count": 173,
   "metadata": {},
   "outputs": [],
   "source": [
    "#segregate Source and destination  25 oct\n",
    "Source4=[]\n",
    "Destination4=[]\n",
    "for i in range(0,len(Source25),2):\n",
    "    Source4.append(Source25[i])\n",
    "    Destination4.append(Source25[i+1])"
   ]
  },
  {
   "cell_type": "code",
   "execution_count": 175,
   "metadata": {},
   "outputs": [
    {
     "data": {
      "text/plain": [
       "(58, 58)"
      ]
     },
     "execution_count": 175,
     "metadata": {},
     "output_type": "execute_result"
    }
   ],
   "source": [
    "len(Source4),len(Destination4)"
   ]
  },
  {
   "cell_type": "code",
   "execution_count": 176,
   "metadata": {},
   "outputs": [],
   "source": [
    "#extracting Travel hour 25  oct\n",
    "\n",
    "try:\n",
    "    travel=driver.find_elements_by_xpath('//div[@class=\"makeFlex fontSize12 flexOne gap-x-10\"]/div[2]/p')  \n",
    "    for i in travel:\n",
    "        Travel_hour25.append(i.text)\n",
    "except NoSuchElementException:\n",
    "    Travel_hour25.append('-')"
   ]
  },
  {
   "cell_type": "code",
   "execution_count": 177,
   "metadata": {},
   "outputs": [
    {
     "data": {
      "text/plain": [
       "58"
      ]
     },
     "execution_count": 177,
     "metadata": {},
     "output_type": "execute_result"
    }
   ],
   "source": [
    "len(Travel_hour25)"
   ]
  },
  {
   "cell_type": "code",
   "execution_count": 178,
   "metadata": {},
   "outputs": [
    {
     "data": {
      "text/plain": [
       "58"
      ]
     },
     "execution_count": 178,
     "metadata": {},
     "output_type": "execute_result"
    }
   ],
   "source": [
    "#extract Price 25 oct\n",
    "try:\n",
    "    price=driver.find_elements_by_xpath('//div[@class=\"priceSection\"]/div/div/p')  \n",
    "    for i in price:\n",
    "        Price25.append(i.text)\n",
    "except NoSuchElementException:\n",
    "    Price25.append('-')\n",
    "len(Price25)"
   ]
  },
  {
   "cell_type": "code",
   "execution_count": 206,
   "metadata": {},
   "outputs": [],
   "source": [
    "#click manually on page 26 oct"
   ]
  },
  {
   "cell_type": "code",
   "execution_count": 207,
   "metadata": {},
   "outputs": [],
   "source": [
    "#fourth page 26 oct \n",
    "Flight_name26=[]\n",
    "Dept_time26=[]\n",
    "Arrival_time26=[]\n",
    "Source26=[]\n",
    "Destination26=[]\n",
    "Travel_hour26=[]\n",
    "Price26=[]"
   ]
  },
  {
   "cell_type": "code",
   "execution_count": 209,
   "metadata": {},
   "outputs": [],
   "source": [
    "# Extracting flight name\n",
    "try:\n",
    "    flight= driver.find_elements_by_xpath('//div[@class=\"makeFlex simpleow\"]/div/div/span')\n",
    "    for i in flight:\n",
    "        Flight_name26.append(i.text)\n",
    "except NoSuchElementException:\n",
    "    Flight_name26.append('-')"
   ]
  },
  {
   "cell_type": "code",
   "execution_count": 210,
   "metadata": {},
   "outputs": [
    {
     "data": {
      "text/plain": [
       "56"
      ]
     },
     "execution_count": 210,
     "metadata": {},
     "output_type": "execute_result"
    }
   ],
   "source": [
    "len(Flight_name26)"
   ]
  },
  {
   "cell_type": "code",
   "execution_count": 211,
   "metadata": {},
   "outputs": [
    {
     "data": {
      "text/plain": [
       "112"
      ]
     },
     "execution_count": 211,
     "metadata": {},
     "output_type": "execute_result"
    }
   ],
   "source": [
    "#extracting Dept_time 26 oct\n",
    "\n",
    "try:\n",
    "    dept=driver.find_elements_by_xpath('//div[@class=\"makeFlex simpleow\"]/div/label/div/div/div/div/p[1]/span')  \n",
    "    for i in dept:\n",
    "        Dept_time26.append(i.text)\n",
    "except NoSuchElementException:\n",
    "    Dept_time26.append('-')\n",
    "len(Dept_time26)"
   ]
  },
  {
   "cell_type": "code",
   "execution_count": 212,
   "metadata": {},
   "outputs": [],
   "source": [
    "#segregate dep time and arrival time\n",
    "Dep_time5=[]\n",
    "Arri_time5=[]\n",
    "for i in range(0,len(Dept_time26),2):\n",
    "    Dep_time5.append(Dept_time26[i])\n",
    "    Arri_time5.append(Dept_time26[i+1])"
   ]
  },
  {
   "cell_type": "code",
   "execution_count": 213,
   "metadata": {},
   "outputs": [
    {
     "data": {
      "text/plain": [
       "(56, 56)"
      ]
     },
     "execution_count": 213,
     "metadata": {},
     "output_type": "execute_result"
    }
   ],
   "source": [
    "len(Dep_time5),len(Arri_time5)"
   ]
  },
  {
   "cell_type": "code",
   "execution_count": 214,
   "metadata": {},
   "outputs": [],
   "source": [
    "#extracting source 26 oct\n",
    "\n",
    "try:\n",
    "    source=driver.find_elements_by_xpath('//div[@class=\"makeFlex simpleow\"]/div/label/div/div/div/div/p[2]')  \n",
    "    for i in source:\n",
    "        Source26.append(i.text)\n",
    "except NoSuchElementException:\n",
    "    Source26.append('-')"
   ]
  },
  {
   "cell_type": "code",
   "execution_count": 215,
   "metadata": {},
   "outputs": [
    {
     "data": {
      "text/plain": [
       "112"
      ]
     },
     "execution_count": 215,
     "metadata": {},
     "output_type": "execute_result"
    }
   ],
   "source": [
    "len(Source26)"
   ]
  },
  {
   "cell_type": "code",
   "execution_count": 216,
   "metadata": {},
   "outputs": [],
   "source": [
    "#segregate Source and destination  26 oct\n",
    "Source5=[]\n",
    "Destination5=[]\n",
    "for i in range(0,len(Source26),2):\n",
    "    Source5.append(Source26[i])\n",
    "    Destination5.append(Source26[i+1])"
   ]
  },
  {
   "cell_type": "code",
   "execution_count": 217,
   "metadata": {},
   "outputs": [
    {
     "data": {
      "text/plain": [
       "(56, 56)"
      ]
     },
     "execution_count": 217,
     "metadata": {},
     "output_type": "execute_result"
    }
   ],
   "source": [
    "len(Source5),len(Destination5)"
   ]
  },
  {
   "cell_type": "code",
   "execution_count": 218,
   "metadata": {},
   "outputs": [],
   "source": [
    "#extracting Travel hour 26  oct\n",
    "\n",
    "try:\n",
    "    travel=driver.find_elements_by_xpath('//div[@class=\"makeFlex fontSize12 flexOne gap-x-10\"]/div[2]/p')  \n",
    "    for i in travel:\n",
    "        Travel_hour26.append(i.text)\n",
    "except NoSuchElementException:\n",
    "    Travel_hour26.append('-')"
   ]
  },
  {
   "cell_type": "code",
   "execution_count": 219,
   "metadata": {},
   "outputs": [
    {
     "data": {
      "text/plain": [
       "56"
      ]
     },
     "execution_count": 219,
     "metadata": {},
     "output_type": "execute_result"
    }
   ],
   "source": [
    "len(Travel_hour26)"
   ]
  },
  {
   "cell_type": "code",
   "execution_count": 220,
   "metadata": {},
   "outputs": [
    {
     "data": {
      "text/plain": [
       "56"
      ]
     },
     "execution_count": 220,
     "metadata": {},
     "output_type": "execute_result"
    }
   ],
   "source": [
    "#extract Price 25 oct\n",
    "try:\n",
    "    price=driver.find_elements_by_xpath('//div[@class=\"priceSection\"]/div/div/p')  \n",
    "    for i in price:\n",
    "        Price26.append(i.text)\n",
    "except NoSuchElementException:\n",
    "    Price26.append('-')\n",
    "len(Price26)"
   ]
  },
  {
   "cell_type": "code",
   "execution_count": 221,
   "metadata": {},
   "outputs": [
    {
     "data": {
      "text/plain": [
       "255"
      ]
     },
     "execution_count": 221,
     "metadata": {},
     "output_type": "execute_result"
    }
   ],
   "source": [
    "#concatinate all data and make dataframe\n",
    "#1 Flight_Name\n",
    "Flight_Name=Flight_name+Flight_name23+Flight_name24+Flight_name25+Flight_name26\n",
    "len(Flight_Name)"
   ]
  },
  {
   "cell_type": "code",
   "execution_count": 222,
   "metadata": {},
   "outputs": [
    {
     "data": {
      "text/plain": [
       "255"
      ]
     },
     "execution_count": 222,
     "metadata": {},
     "output_type": "execute_result"
    }
   ],
   "source": [
    "#Dep_Time\n",
    "Dep_Time=Dep_time1+Dep_time2+Dep_time3+Dep_time4+Dep_time5\n",
    "len(Dep_Time)"
   ]
  },
  {
   "cell_type": "code",
   "execution_count": 223,
   "metadata": {},
   "outputs": [
    {
     "data": {
      "text/plain": [
       "255"
      ]
     },
     "execution_count": 223,
     "metadata": {},
     "output_type": "execute_result"
    }
   ],
   "source": [
    "#Arrival_Time\n",
    "Arrival_Time=Arri_time1+Arri_time2+Arri_time3+Arri_time4+Arri_time5\n",
    "len(Arrival_Time)"
   ]
  },
  {
   "cell_type": "code",
   "execution_count": 224,
   "metadata": {},
   "outputs": [
    {
     "data": {
      "text/plain": [
       "255"
      ]
     },
     "execution_count": 224,
     "metadata": {},
     "output_type": "execute_result"
    }
   ],
   "source": [
    "#Source\n",
    "Source=Source1+Source2+Source3+Source4+Source5\n",
    "len(Source)"
   ]
  },
  {
   "cell_type": "code",
   "execution_count": 225,
   "metadata": {},
   "outputs": [
    {
     "data": {
      "text/plain": [
       "255"
      ]
     },
     "execution_count": 225,
     "metadata": {},
     "output_type": "execute_result"
    }
   ],
   "source": [
    "#Destiination\n",
    "Destination=Destination1+Destination2+Destination3+Destination4+Destination5\n",
    "len(Destination)"
   ]
  },
  {
   "cell_type": "code",
   "execution_count": 226,
   "metadata": {},
   "outputs": [
    {
     "data": {
      "text/plain": [
       "255"
      ]
     },
     "execution_count": 226,
     "metadata": {},
     "output_type": "execute_result"
    }
   ],
   "source": [
    "#Travel_Hour\n",
    "Travel_Hour=Travel_hour+Travel_hour23+Travel_hour24+Travel_hour25+Travel_hour26\n",
    "len(Travel_Hour)"
   ]
  },
  {
   "cell_type": "code",
   "execution_count": 227,
   "metadata": {},
   "outputs": [
    {
     "data": {
      "text/plain": [
       "255"
      ]
     },
     "execution_count": 227,
     "metadata": {},
     "output_type": "execute_result"
    }
   ],
   "source": [
    "#Fair\n",
    "Flight_Price=Price[:19]+Price23+Price24+Price25+Price26\n",
    "len(Flight_Price)"
   ]
  },
  {
   "cell_type": "code",
   "execution_count": 228,
   "metadata": {},
   "outputs": [
    {
     "data": {
      "text/html": [
       "<div>\n",
       "<style scoped>\n",
       "    .dataframe tbody tr th:only-of-type {\n",
       "        vertical-align: middle;\n",
       "    }\n",
       "\n",
       "    .dataframe tbody tr th {\n",
       "        vertical-align: top;\n",
       "    }\n",
       "\n",
       "    .dataframe thead th {\n",
       "        text-align: right;\n",
       "    }\n",
       "</style>\n",
       "<table border=\"1\" class=\"dataframe\">\n",
       "  <thead>\n",
       "    <tr style=\"text-align: right;\">\n",
       "      <th></th>\n",
       "      <th>Flight_Name</th>\n",
       "      <th>Dep_Time</th>\n",
       "      <th>Arrival_Time</th>\n",
       "      <th>Source</th>\n",
       "      <th>Destination</th>\n",
       "      <th>Travel_Hour</th>\n",
       "      <th>Flight_Price</th>\n",
       "    </tr>\n",
       "  </thead>\n",
       "  <tbody>\n",
       "    <tr>\n",
       "      <th>0</th>\n",
       "      <td>AirAsia</td>\n",
       "      <td>21:20</td>\n",
       "      <td>11:30</td>\n",
       "      <td>New Delhi</td>\n",
       "      <td>Bengaluru</td>\n",
       "      <td>14 h 10 m</td>\n",
       "      <td>₹ 7,423</td>\n",
       "    </tr>\n",
       "    <tr>\n",
       "      <th>1</th>\n",
       "      <td>AirAsia</td>\n",
       "      <td>19:25</td>\n",
       "      <td>11:30</td>\n",
       "      <td>New Delhi</td>\n",
       "      <td>Bengaluru</td>\n",
       "      <td>16 h 05 m</td>\n",
       "      <td>₹ 7,423</td>\n",
       "    </tr>\n",
       "    <tr>\n",
       "      <th>2</th>\n",
       "      <td>Go First</td>\n",
       "      <td>19:45</td>\n",
       "      <td>22:20</td>\n",
       "      <td>New Delhi</td>\n",
       "      <td>Bengaluru</td>\n",
       "      <td>02 h 35 m</td>\n",
       "      <td>₹ 7,424</td>\n",
       "    </tr>\n",
       "    <tr>\n",
       "      <th>3</th>\n",
       "      <td>Go First</td>\n",
       "      <td>18:50</td>\n",
       "      <td>00:30</td>\n",
       "      <td>New Delhi</td>\n",
       "      <td>Bengaluru</td>\n",
       "      <td>05 h 40 m</td>\n",
       "      <td>₹ 7,424</td>\n",
       "    </tr>\n",
       "    <tr>\n",
       "      <th>4</th>\n",
       "      <td></td>\n",
       "      <td></td>\n",
       "      <td></td>\n",
       "      <td></td>\n",
       "      <td></td>\n",
       "      <td></td>\n",
       "      <td></td>\n",
       "    </tr>\n",
       "    <tr>\n",
       "      <th>...</th>\n",
       "      <td>...</td>\n",
       "      <td>...</td>\n",
       "      <td>...</td>\n",
       "      <td>...</td>\n",
       "      <td>...</td>\n",
       "      <td>...</td>\n",
       "      <td>...</td>\n",
       "    </tr>\n",
       "    <tr>\n",
       "      <th>250</th>\n",
       "      <td>AirAsia</td>\n",
       "      <td>16:15</td>\n",
       "      <td>18:55</td>\n",
       "      <td>New Delhi</td>\n",
       "      <td>Bengaluru</td>\n",
       "      <td>02 h 40 m</td>\n",
       "      <td>₹ 7,426</td>\n",
       "    </tr>\n",
       "    <tr>\n",
       "      <th>251</th>\n",
       "      <td>Spicejet</td>\n",
       "      <td>12:00</td>\n",
       "      <td>16:55</td>\n",
       "      <td>New Delhi</td>\n",
       "      <td>Bengaluru</td>\n",
       "      <td>04 h 55 m</td>\n",
       "      <td>₹ 7,741</td>\n",
       "    </tr>\n",
       "    <tr>\n",
       "      <th>252</th>\n",
       "      <td>Vistara</td>\n",
       "      <td>08:10</td>\n",
       "      <td>10:50</td>\n",
       "      <td>New Delhi</td>\n",
       "      <td>Bengaluru</td>\n",
       "      <td>02 h 40 m</td>\n",
       "      <td>₹ 8,265</td>\n",
       "    </tr>\n",
       "    <tr>\n",
       "      <th>253</th>\n",
       "      <td>Vistara</td>\n",
       "      <td>06:00</td>\n",
       "      <td>10:45</td>\n",
       "      <td>New Delhi</td>\n",
       "      <td>Bengaluru</td>\n",
       "      <td>04 h 45 m</td>\n",
       "      <td>₹ 10,785</td>\n",
       "    </tr>\n",
       "    <tr>\n",
       "      <th>254</th>\n",
       "      <td>Vistara</td>\n",
       "      <td>12:45</td>\n",
       "      <td>17:45</td>\n",
       "      <td>New Delhi</td>\n",
       "      <td>Bengaluru</td>\n",
       "      <td>05 h</td>\n",
       "      <td>₹ 10,785</td>\n",
       "    </tr>\n",
       "  </tbody>\n",
       "</table>\n",
       "<p>255 rows × 7 columns</p>\n",
       "</div>"
      ],
      "text/plain": [
       "    Flight_Name Dep_Time Arrival_Time     Source Destination Travel_Hour  \\\n",
       "0       AirAsia    21:20        11:30  New Delhi   Bengaluru   14 h 10 m   \n",
       "1       AirAsia    19:25        11:30  New Delhi   Bengaluru   16 h 05 m   \n",
       "2      Go First    19:45        22:20  New Delhi   Bengaluru   02 h 35 m   \n",
       "3      Go First    18:50        00:30  New Delhi   Bengaluru   05 h 40 m   \n",
       "4                                                                          \n",
       "..          ...      ...          ...        ...         ...         ...   \n",
       "250     AirAsia    16:15        18:55  New Delhi   Bengaluru   02 h 40 m   \n",
       "251    Spicejet    12:00        16:55  New Delhi   Bengaluru   04 h 55 m   \n",
       "252     Vistara    08:10        10:50  New Delhi   Bengaluru   02 h 40 m   \n",
       "253     Vistara    06:00        10:45  New Delhi   Bengaluru   04 h 45 m   \n",
       "254     Vistara    12:45        17:45  New Delhi   Bengaluru        05 h   \n",
       "\n",
       "    Flight_Price  \n",
       "0        ₹ 7,423  \n",
       "1        ₹ 7,423  \n",
       "2        ₹ 7,424  \n",
       "3        ₹ 7,424  \n",
       "4                 \n",
       "..           ...  \n",
       "250      ₹ 7,426  \n",
       "251      ₹ 7,741  \n",
       "252      ₹ 8,265  \n",
       "253     ₹ 10,785  \n",
       "254     ₹ 10,785  \n",
       "\n",
       "[255 rows x 7 columns]"
      ]
     },
     "execution_count": 228,
     "metadata": {},
     "output_type": "execute_result"
    }
   ],
   "source": [
    "data=pd.DataFrame({})\n",
    "data['Flight_Name']=Flight_Name\n",
    "data['Dep_Time']=Dep_Time\n",
    "data['Arrival_Time']=Arrival_Time\n",
    "data['Source']=Source\n",
    "data['Destination']=Destination\n",
    "data['Travel_Hour']=Travel_Hour\n",
    "data['Flight_Price']=Flight_Price\n",
    "data"
   ]
  },
  {
   "cell_type": "code",
   "execution_count": 229,
   "metadata": {},
   "outputs": [],
   "source": [
    "#saving file into folder as csv file\n",
    "data.to_csv(r\"C:\\Users\\INPshy\\Desktop\\DATA Science\\data.csv\")"
   ]
  }
 ],
 "metadata": {
  "kernelspec": {
   "display_name": "Python 3",
   "language": "python",
   "name": "python3"
  },
  "language_info": {
   "codemirror_mode": {
    "name": "ipython",
    "version": 3
   },
   "file_extension": ".py",
   "mimetype": "text/x-python",
   "name": "python",
   "nbconvert_exporter": "python",
   "pygments_lexer": "ipython3",
   "version": "3.8.5"
  }
 },
 "nbformat": 4,
 "nbformat_minor": 4
}
